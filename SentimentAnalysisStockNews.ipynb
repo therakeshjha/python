{
 "cells": [
  {
   "cell_type": "code",
   "execution_count": 9,
   "id": "c69ab76d",
   "metadata": {},
   "outputs": [],
   "source": [
    "# Import Necessary Packages and library\n",
    "from urllib.request import urlopen, Request\n",
    "from bs4 import BeautifulSoup\n",
    "from nltk.sentiment.vader import SentimentIntensityAnalyzer\n",
    "import pandas as pd\n",
    "import matplotlib.pyplot as plt"
   ]
  },
  {
   "cell_type": "code",
   "execution_count": 10,
   "id": "2600e4cf",
   "metadata": {},
   "outputs": [],
   "source": [
    "# Create url for vector for ticker symbol\n",
    "finviz_url = 'https://finviz.com/quote.ashx?t='\n",
    "tickers = ['AMZN', 'MSFT', 'AAPL'] # Ticker vector"
   ]
  },
  {
   "cell_type": "code",
   "execution_count": 12,
   "id": "cbf3c121",
   "metadata": {},
   "outputs": [],
   "source": [
    "# Create a table for new post related to eahc ticker\n",
    "news_tables = {}\n",
    "for ticker in tickers:\n",
    "    url = finviz_url + ticker # Build complete url\n",
    "\n",
    "    req = Request(url=url, headers={'user-agent': 'my-app'}) # Post request\n",
    "    response = urlopen(req) # Access response\n",
    "\n",
    "    html = BeautifulSoup(response, features='html.parser')\n",
    "    news_table = html.find(id='news-table')\n",
    "    news_tables[ticker] = news_table"
   ]
  },
  {
   "cell_type": "code",
   "execution_count": 13,
   "id": "77929182",
   "metadata": {},
   "outputs": [],
   "source": [
    "# Parse data to save in table\n",
    "parsed_data = [] # Initialize the vector\n",
    "for ticker, news_table in news_tables.items():\n",
    "    for row in news_table.findAll('tr'):\n",
    "        title = row.a.text\n",
    "        date_data = row.td.text.split(' ')\n",
    "        if len(date_data) == 1:\n",
    "            time = date_data[0]\n",
    "        else:\n",
    "            date = date_data[0]\n",
    "            time = date_data[1]\n",
    "        parsed_data.append([ticker, date, time, title]) # Build the data"
   ]
  },
  {
   "cell_type": "code",
   "execution_count": 14,
   "id": "72a7fa56",
   "metadata": {},
   "outputs": [],
   "source": [
    "# Create a dataframe\n",
    "df = pd.DataFrame(parsed_data, columns=['ticker', 'date', 'time', 'title'])"
   ]
  },
  {
   "cell_type": "code",
   "execution_count": 15,
   "id": "86d7612b",
   "metadata": {},
   "outputs": [],
   "source": [
    "# Intialize the model\n",
    "vader = SentimentIntensityAnalyzer()\n",
    "\n",
    "# Lambda function to store polarity of the title based on sentiment function\n",
    "f = lambda title: vader.polarity_scores(title)['compound']\n",
    "df['compound'] = df['title'].apply(f)\n",
    "df['date'] = pd.to_datetime(df.date).dt.date"
   ]
  },
  {
   "cell_type": "code",
   "execution_count": 16,
   "id": "dc371d07",
   "metadata": {},
   "outputs": [
    {
     "data": {
      "text/plain": [
       "<Figure size 720x576 with 0 Axes>"
      ]
     },
     "metadata": {},
     "output_type": "display_data"
    },
    {
     "data": {
      "image/png": "[encoded data removed]",
      "text/plain": [
       "<Figure size 432x288 with 1 Axes>"
      ]
     },
     "metadata": {
      "needs_background": "light"
     },
     "output_type": "display_data"
    }
   ],
   "source": [
    "# Plot the graph\n",
    "plt.figure(figsize=(10,8))\n",
    "mean_df = df.groupby(['ticker', 'date']).mean().unstack()\n",
    "mean_df = mean_df.xs('compound', axis=\"columns\").transpose()\n",
    "mean_df.plot(kind='bar')\n",
    "plt.show()"
   ]
  }
 ],
 "metadata": {
  "kernelspec": {
   "display_name": "Python 3",
   "language": "python",
   "name": "python3"
  },
  "language_info": {
   "codemirror_mode": {
    "name": "ipython",
    "version": 3
   },
   "file_extension": ".py",
   "mimetype": "text/x-python",
   "name": "python",
   "nbconvert_exporter": "python",
   "pygments_lexer": "ipython3",
   "version": "3.7.10"
  }
 },
 "nbformat": 4,
 "nbformat_minor": 5
}
